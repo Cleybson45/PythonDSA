{
 "cells": [
  {
   "cell_type": "markdown",
   "id": "54eb2707-4b05-4575-8241-12e35a13aafe",
   "metadata": {},
   "source": [
    "### Conhecendo o Pseudocódigo\n",
    "Pseudocódigo é uma notação informal usadas para expressar ideias e algoritmos de forma clara e compreensível sem se preocupar com a sintaxe de uma linguagem de programação específica."
   ]
  },
  {
   "cell_type": "markdown",
   "id": "28dfa063-7d2f-434b-b2bd-d74ad4a668cf",
   "metadata": {},
   "source": [
    "### Desafio: Calcule a área de um paralelograma"
   ]
  },
  {
   "cell_type": "markdown",
   "id": "a2ddc1ee-502d-46cf-a345-69422df4305c",
   "metadata": {},
   "source": [
    "#### Pseudocódigo: \n",
    "\n",
    "Declare a variável da largura e altura\n",
    "Solicite ao usuário o valor da variável largura e altura\n",
    "Declare uma variável para representar a área\n",
    "Atribua o valor da variável área sendo a multiplicação dos valores da altura e largura\n",
    "Apresente o resultado sendo a área a multiplicação da largura e da altura"
   ]
  },
  {
   "cell_type": "markdown",
   "id": "c74601bc-d9cc-4ba8-bf8e-d1c0a20b2d32",
   "metadata": {},
   "source": [
    "#### Convertendo o pseudocódigo na linguagem Python"
   ]
  },
  {
   "cell_type": "code",
   "execution_count": 29,
   "id": "04e11dc3-8a69-4a3b-9c6f-5cb0f97fbc78",
   "metadata": {},
   "outputs": [
    {
     "name": "stdout",
     "output_type": "stream",
     "text": [
      "Bem-vindo a Calculadora de Área para Paralelogramas\n"
     ]
    },
    {
     "name": "stdin",
     "output_type": "stream",
     "text": [
      "Digite a altura:  6\n"
     ]
    }
   ],
   "source": [
    "print(\"Bem-vindo a Calculadora de Área para Paralelogramas\")\n",
    "altura=float(input(\"Digite a altura: \"))"
   ]
  },
  {
   "cell_type": "code",
   "execution_count": 33,
   "id": "84de87d3-b88f-49c8-9274-f0702045d6c7",
   "metadata": {},
   "outputs": [
    {
     "name": "stdin",
     "output_type": "stream",
     "text": [
      "Digite o valor da Altura:  4\n"
     ]
    }
   ],
   "source": [
    "largura=float(input(\"Digite o valor da Altura: \"))"
   ]
  },
  {
   "cell_type": "code",
   "execution_count": 34,
   "id": "e652f090-0edb-4f06-9fa5-896351ceec1b",
   "metadata": {},
   "outputs": [],
   "source": [
    "area = float(altura * largura)"
   ]
  },
  {
   "cell_type": "code",
   "execution_count": 37,
   "id": "91f3e3d9-1632-4545-a747-dbab37d47ff0",
   "metadata": {},
   "outputs": [
    {
     "name": "stdout",
     "output_type": "stream",
     "text": [
      "A área desse paralelograma é  16.0 m²\n"
     ]
    }
   ],
   "source": [
    "print(\"A área desse paralelograma é \", area,\"m²\")"
   ]
  }
 ],
 "metadata": {
  "kernelspec": {
   "display_name": "Python 3 (ipykernel)",
   "language": "python",
   "name": "python3"
  },
  "language_info": {
   "codemirror_mode": {
    "name": "ipython",
    "version": 3
   },
   "file_extension": ".py",
   "mimetype": "text/x-python",
   "name": "python",
   "nbconvert_exporter": "python",
   "pygments_lexer": "ipython3",
   "version": "3.12.7"
  }
 },
 "nbformat": 4,
 "nbformat_minor": 5
}
