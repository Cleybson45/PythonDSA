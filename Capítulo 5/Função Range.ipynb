{
 "cells": [
  {
   "cell_type": "markdown",
   "id": "0df72a7a",
   "metadata": {},
   "source": [
    "### Função Range\n",
    "- Gerando valores e intervalores entre os valores"
   ]
  },
  {
   "cell_type": "code",
   "execution_count": 1,
   "id": "557671df",
   "metadata": {},
   "outputs": [
    {
     "name": "stdout",
     "output_type": "stream",
     "text": [
      "0\n",
      "1\n",
      "2\n",
      "3\n",
      "4\n",
      "5\n",
      "6\n",
      "7\n",
      "8\n",
      "9\n",
      "10\n",
      "11\n",
      "12\n",
      "13\n",
      "14\n",
      "15\n",
      "16\n",
      "17\n"
     ]
    }
   ],
   "source": [
    "for i in range(0,18):\n",
    "    print(i)"
   ]
  },
  {
   "cell_type": "code",
   "execution_count": 3,
   "id": "2d78f882",
   "metadata": {},
   "outputs": [
    {
     "name": "stdout",
     "output_type": "stream",
     "text": [
      "Iremos de 1 a 20\n",
      "1\n",
      "2\n",
      "3\n",
      "4\n",
      "5\n",
      "6\n",
      "7\n",
      "8\n",
      "9\n",
      "10\n",
      "11\n",
      "12\n",
      "13\n",
      "14\n",
      "15\n",
      "16\n",
      "17\n",
      "18\n",
      "19\n",
      "20\n"
     ]
    }
   ],
   "source": [
    "# PERCEBEMOS QUE O ÚLTIMO VALOR É EXCLUSIVO. \n",
    "# Então sempre que eu quiser até determinado valor preciso considerar o valor somado a um, vejamos..\n",
    "print(\"Iremos de 1 a 20\")\n",
    "for i in range(1,21):    \n",
    "    print(i)"
   ]
  },
  {
   "cell_type": "code",
   "execution_count": 6,
   "id": "674bc15c",
   "metadata": {},
   "outputs": [
    {
     "name": "stdout",
     "output_type": "stream",
     "text": [
      "Iremos de 0 a 20 pulando de 2 em 2..\n",
      "0\n",
      "2\n",
      "4\n",
      "6\n",
      "8\n",
      "10\n",
      "12\n",
      "14\n",
      "16\n",
      "18\n",
      "20\n",
      "Tivemos apenas os números pares!\n"
     ]
    }
   ],
   "source": [
    "# O TERCEIRO PARÂMETRO DA FUNÇÃO É O INTERVALO ENTRE OS NÚMEROS GERADOS. VEJAMOS..\n",
    "print(\"Iremos de 0 a 20 pulando de 2 em 2..\")\n",
    "for i in range(0,21,2):\n",
    "    print(i)\n",
    "print(\"Tivemos apenas os números pares!\")"
   ]
  },
  {
   "cell_type": "code",
   "execution_count": 7,
   "id": "de502503",
   "metadata": {},
   "outputs": [
    {
     "name": "stdout",
     "output_type": "stream",
     "text": [
      "0\n",
      "-2\n",
      "-4\n",
      "-6\n",
      "-8\n",
      "-10\n"
     ]
    }
   ],
   "source": [
    "#COM OS NÚMEROS NEGATIVOS\n",
    "for i in range(0, -11, -2):\n",
    "    print(i)"
   ]
  },
  {
   "cell_type": "code",
   "execution_count": 4,
   "id": "5db9452e",
   "metadata": {},
   "outputs": [
    {
     "name": "stdout",
     "output_type": "stream",
     "text": [
      "Python\n",
      "Java\n",
      "C\n",
      "C#\n",
      "R\n",
      "C#\n",
      "Ruby\n",
      "Go\n",
      "PHP\n"
     ]
    }
   ],
   "source": [
    "linguagens=[\"Python\",\"Java\",\"C\",\"C#\",\"R\",\"C#\",\"Ruby\",\"Go\",\"PHP\"]\n",
    "for i in range(0,len(linguagens)):\n",
    "    print(linguagens[i])"
   ]
  },
  {
   "cell_type": "code",
   "execution_count": 5,
   "id": "d220e87e",
   "metadata": {},
   "outputs": [
    {
     "name": "stdout",
     "output_type": "stream",
     "text": [
      "['Python', 'Java', 'C', 'C#', 'R', 'C#', 'Ruby', 'Go', 'PHP']\n"
     ]
    }
   ],
   "source": [
    "print(linguagens)"
   ]
  },
  {
   "cell_type": "code",
   "execution_count": null,
   "id": "43f7fa43",
   "metadata": {},
   "outputs": [],
   "source": []
  }
 ],
 "metadata": {
  "kernelspec": {
   "display_name": "base",
   "language": "python",
   "name": "python3"
  },
  "language_info": {
   "codemirror_mode": {
    "name": "ipython",
    "version": 3
   },
   "file_extension": ".py",
   "mimetype": "text/x-python",
   "name": "python",
   "nbconvert_exporter": "python",
   "pygments_lexer": "ipython3",
   "version": "3.12.7"
  }
 },
 "nbformat": 4,
 "nbformat_minor": 5
}
