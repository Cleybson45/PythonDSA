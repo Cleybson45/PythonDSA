{
 "cells": [
  {
   "cell_type": "markdown",
   "id": "cf120c44",
   "metadata": {},
   "source": [
    "### Fazendo o Split dos Dados"
   ]
  },
  {
   "cell_type": "code",
   "execution_count": 5,
   "id": "3a7167f5",
   "metadata": {},
   "outputs": [],
   "source": [
    "# Por padrão o split separa as palavras (string) por espaço, mas podemos definir isso dentro da função.\n",
    "def splitPalavras(texto):\n",
    "    return texto.split(\" \")"
   ]
  },
  {
   "cell_type": "code",
   "execution_count": 6,
   "id": "d3c49ae7",
   "metadata": {},
   "outputs": [
    {
     "data": {
      "text/plain": [
       "['Esse', 'é', 'o', 'texto']"
      ]
     },
     "execution_count": 6,
     "metadata": {},
     "output_type": "execute_result"
    }
   ],
   "source": [
    "# Testando nossa função split\n",
    "texto = \"Esse é o texto\"\n",
    "\n",
    "splitPalavras(texto)"
   ]
  },
  {
   "cell_type": "code",
   "execution_count": 7,
   "id": "85a8dd76",
   "metadata": {},
   "outputs": [
    {
     "name": "stdout",
     "output_type": "stream",
     "text": [
      "['Esse', 'é', 'o', 'texto']\n"
     ]
    }
   ],
   "source": [
    "# Também podemos criar uma variável com o retorno de um método sendo seu valor, vejamos..\n",
    "textoSeparado = texto.split(\" \")\n",
    "print(textoSeparado)"
   ]
  },
  {
   "cell_type": "code",
   "execution_count": 14,
   "id": "f62d5471",
   "metadata": {},
   "outputs": [],
   "source": [
    "def splitLetras(texto):\n",
    "    varTexto = texto.upper()\n",
    "    for letra in varTexto:\n",
    "        print(letra)"
   ]
  },
  {
   "cell_type": "code",
   "execution_count": 15,
   "id": "50ec87cd",
   "metadata": {},
   "outputs": [
    {
     "name": "stdout",
     "output_type": "stream",
     "text": [
      "E\n",
      "S\n",
      "S\n",
      "E\n",
      " \n",
      "É\n",
      " \n",
      "O\n",
      " \n",
      "T\n",
      "E\n",
      "X\n",
      "T\n",
      "O\n"
     ]
    }
   ],
   "source": [
    "splitLetras(texto)"
   ]
  },
  {
   "cell_type": "code",
   "execution_count": null,
   "id": "37249ff9",
   "metadata": {},
   "outputs": [],
   "source": []
  }
 ],
 "metadata": {
  "kernelspec": {
   "display_name": "base",
   "language": "python",
   "name": "python3"
  },
  "language_info": {
   "codemirror_mode": {
    "name": "ipython",
    "version": 3
   },
   "file_extension": ".py",
   "mimetype": "text/x-python",
   "name": "python",
   "nbconvert_exporter": "python",
   "pygments_lexer": "ipython3",
   "version": "3.12.7"
  }
 },
 "nbformat": 4,
 "nbformat_minor": 5
}
