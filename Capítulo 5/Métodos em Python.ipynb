{
 "cells": [
  {
   "cell_type": "markdown",
   "id": "c00cf341",
   "metadata": {},
   "source": [
    "### Métodos\n",
    "* Tudo em Python é objetos. E cada método tem suas condições e atributos.\n",
    "* Atributos são propriedade/características do objeto. Assim os atributos são características de uma entidade no MER.\n",
    "* Métodos são funções com ações que podem ser executadas nos objetos."
   ]
  },
  {
   "cell_type": "code",
   "execution_count": 1,
   "id": "b30cc570",
   "metadata": {},
   "outputs": [],
   "source": [
    "lista = [100,-2,12,65,0]"
   ]
  },
  {
   "cell_type": "code",
   "execution_count": 2,
   "id": "678336b2",
   "metadata": {},
   "outputs": [
    {
     "data": {
      "text/plain": [
       "list"
      ]
     },
     "execution_count": 2,
     "metadata": {},
     "output_type": "execute_result"
    }
   ],
   "source": [
    "type(lista)"
   ]
  },
  {
   "cell_type": "code",
   "execution_count": null,
   "id": "a5fc35bc",
   "metadata": {},
   "outputs": [],
   "source": [
    "# Objeto para adicionar um item a lista.\n",
    "lista.append(87)"
   ]
  },
  {
   "cell_type": "code",
   "execution_count": 7,
   "id": "17c8304e",
   "metadata": {},
   "outputs": [
    {
     "data": {
      "text/plain": [
       "[100, -2, 12, 65, 0, 87]"
      ]
     },
     "execution_count": 7,
     "metadata": {},
     "output_type": "execute_result"
    }
   ],
   "source": [
    "lista"
   ]
  },
  {
   "cell_type": "code",
   "execution_count": null,
   "id": "a46bafdc",
   "metadata": {},
   "outputs": [],
   "source": [
    "# Objeto .remove da lista pra remover um item.\n",
    "lista.remove(87)"
   ]
  },
  {
   "cell_type": "code",
   "execution_count": 9,
   "id": "3a19ab5a",
   "metadata": {},
   "outputs": [
    {
     "data": {
      "text/plain": [
       "1"
      ]
     },
     "execution_count": 9,
     "metadata": {},
     "output_type": "execute_result"
    }
   ],
   "source": [
    "# Objto para contar a qtd de determinado item de uma lista\n",
    "lista.count(-2)"
   ]
  },
  {
   "cell_type": "code",
   "execution_count": 10,
   "id": "e0a60e55",
   "metadata": {},
   "outputs": [
    {
     "name": "stdout",
     "output_type": "stream",
     "text": [
      "Help on built-in function clear:\n",
      "\n",
      "clear() method of builtins.list instance\n",
      "    Remove all items from list.\n",
      "\n"
     ]
    }
   ],
   "source": [
    "# A função HELP nos ajuda a compreender como usar cada método\n",
    "help(lista.clear)"
   ]
  },
  {
   "cell_type": "code",
   "execution_count": null,
   "id": "f88c41ba",
   "metadata": {},
   "outputs": [
    {
     "data": {
      "text/plain": [
       "['__add__',\n",
       " '__class__',\n",
       " '__class_getitem__',\n",
       " '__contains__',\n",
       " '__delattr__',\n",
       " '__delitem__',\n",
       " '__dir__',\n",
       " '__doc__',\n",
       " '__eq__',\n",
       " '__format__',\n",
       " '__ge__',\n",
       " '__getattribute__',\n",
       " '__getitem__',\n",
       " '__getstate__',\n",
       " '__gt__',\n",
       " '__hash__',\n",
       " '__iadd__',\n",
       " '__imul__',\n",
       " '__init__',\n",
       " '__init_subclass__',\n",
       " '__iter__',\n",
       " '__le__',\n",
       " '__len__',\n",
       " '__lt__',\n",
       " '__mul__',\n",
       " '__ne__',\n",
       " '__new__',\n",
       " '__reduce__',\n",
       " '__reduce_ex__',\n",
       " '__repr__',\n",
       " '__reversed__',\n",
       " '__rmul__',\n",
       " '__setattr__',\n",
       " '__setitem__',\n",
       " '__sizeof__',\n",
       " '__str__',\n",
       " '__subclasshook__',\n",
       " 'append',\n",
       " 'clear',\n",
       " 'copy',\n",
       " 'count',\n",
       " 'extend',\n",
       " 'index',\n",
       " 'insert',\n",
       " 'pop',\n",
       " 'remove',\n",
       " 'reverse',\n",
       " 'sort']"
      ]
     },
     "execution_count": 12,
     "metadata": {},
     "output_type": "execute_result"
    }
   ],
   "source": [
    "# Função DIR lista todos os métodos e atributos\n",
    "dir(lista)"
   ]
  },
  {
   "cell_type": "code",
   "execution_count": 13,
   "id": "ccd95f9a",
   "metadata": {},
   "outputs": [],
   "source": [
    "frase = \"Isso é uma frase\""
   ]
  },
  {
   "cell_type": "code",
   "execution_count": 14,
   "id": "a8197304",
   "metadata": {},
   "outputs": [
    {
     "data": {
      "text/plain": [
       "str"
      ]
     },
     "execution_count": 14,
     "metadata": {},
     "output_type": "execute_result"
    }
   ],
   "source": [
    "type(frase)"
   ]
  },
  {
   "cell_type": "code",
   "execution_count": null,
   "id": "c3a5e16c",
   "metadata": {},
   "outputs": [
    {
     "data": {
      "text/plain": [
       "['Isso', 'é', 'uma', 'frase']"
      ]
     },
     "execution_count": 15,
     "metadata": {},
     "output_type": "execute_result"
    }
   ],
   "source": [
    "# Objetvo para separar (fatiar) uma string. \n",
    "frase.split()"
   ]
  },
  {
   "cell_type": "code",
   "execution_count": 16,
   "id": "2d922427",
   "metadata": {},
   "outputs": [
    {
     "data": {
      "text/plain": [
       "['Isso é um', ' fr', 'se']"
      ]
     },
     "execution_count": 16,
     "metadata": {},
     "output_type": "execute_result"
    }
   ],
   "source": [
    "# O split por padrão separa a string pelo espaço. Mas podemos definir a separação de outras formas.\n",
    "# Vejamos\n",
    "frase.split('a')"
   ]
  },
  {
   "cell_type": "code",
   "execution_count": null,
   "id": "96bb1f0c",
   "metadata": {},
   "outputs": [],
   "source": []
  }
 ],
 "metadata": {
  "kernelspec": {
   "display_name": "base",
   "language": "python",
   "name": "python3"
  },
  "language_info": {
   "codemirror_mode": {
    "name": "ipython",
    "version": 3
   },
   "file_extension": ".py",
   "mimetype": "text/x-python",
   "name": "python",
   "nbconvert_exporter": "python",
   "pygments_lexer": "ipython3",
   "version": "3.12.7"
  }
 },
 "nbformat": 4,
 "nbformat_minor": 5
}
