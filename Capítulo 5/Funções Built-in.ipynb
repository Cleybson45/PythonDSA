{
 "cells": [
  {
   "cell_type": "markdown",
   "id": "65ad200d",
   "metadata": {},
   "source": [
    "### Funções Built-in em Python"
   ]
  },
  {
   "cell_type": "code",
   "execution_count": 1,
   "id": "71555efa",
   "metadata": {},
   "outputs": [
    {
     "data": {
      "text/plain": [
       "58"
      ]
     },
     "execution_count": 1,
     "metadata": {},
     "output_type": "execute_result"
    }
   ],
   "source": [
    "# Valos absoluto de um número:\n",
    "abs(-58)"
   ]
  },
  {
   "cell_type": "code",
   "execution_count": 6,
   "id": "6baf43a0",
   "metadata": {},
   "outputs": [
    {
     "data": {
      "text/plain": [
       "False"
      ]
     },
     "execution_count": 6,
     "metadata": {},
     "output_type": "execute_result"
    }
   ],
   "source": [
    "# Valor booleando de um número \n",
    "bool(0)"
   ]
  },
  {
   "cell_type": "code",
   "execution_count": 8,
   "id": "e1041b5c",
   "metadata": {},
   "outputs": [
    {
     "data": {
      "text/plain": [
       "4"
      ]
     },
     "execution_count": 8,
     "metadata": {},
     "output_type": "execute_result"
    }
   ],
   "source": [
    "# Valor inteiro de um número\n",
    "int(4.6)"
   ]
  },
  {
   "cell_type": "code",
   "execution_count": 9,
   "id": "6f8e264f",
   "metadata": {},
   "outputs": [
    {
     "data": {
      "text/plain": [
       "'13'"
      ]
     },
     "execution_count": 9,
     "metadata": {},
     "output_type": "execute_result"
    }
   ],
   "source": [
    "str(13)"
   ]
  },
  {
   "cell_type": "code",
   "execution_count": 10,
   "id": "f62f060c",
   "metadata": {},
   "outputs": [
    {
     "data": {
      "text/plain": [
       "41.0"
      ]
     },
     "execution_count": 10,
     "metadata": {},
     "output_type": "execute_result"
    }
   ],
   "source": [
    "float(41)"
   ]
  },
  {
   "cell_type": "code",
   "execution_count": 11,
   "id": "0ae454ae",
   "metadata": {},
   "outputs": [
    {
     "ename": "TypeError",
     "evalue": "'>' not supported between instances of 'str' and 'int'",
     "output_type": "error",
     "traceback": [
      "\u001b[1;31m---------------------------------------------------------------------------\u001b[0m",
      "\u001b[1;31mTypeError\u001b[0m                                 Traceback (most recent call last)",
      "Cell \u001b[1;32mIn[11], line 3\u001b[0m\n\u001b[0;32m      1\u001b[0m \u001b[38;5;66;03m# Simulando erro de conversão \u001b[39;00m\n\u001b[0;32m      2\u001b[0m age \u001b[38;5;241m=\u001b[39m \u001b[38;5;28minput\u001b[39m(\u001b[38;5;124m\"\u001b[39m\u001b[38;5;124mDigite sua idade: \u001b[39m\u001b[38;5;124m\"\u001b[39m)\n\u001b[1;32m----> 3\u001b[0m \u001b[38;5;28;01mif\u001b[39;00m age \u001b[38;5;241m>\u001b[39m \u001b[38;5;241m18\u001b[39m:\n\u001b[0;32m      4\u001b[0m     \u001b[38;5;28mprint\u001b[39m(\u001b[38;5;124m\"\u001b[39m\u001b[38;5;124mVocê já pode ser preso..\u001b[39m\u001b[38;5;124m\"\u001b[39m)\n\u001b[0;32m      5\u001b[0m \u001b[38;5;28;01melse\u001b[39;00m:\n",
      "\u001b[1;31mTypeError\u001b[0m: '>' not supported between instances of 'str' and 'int'"
     ]
    }
   ],
   "source": [
    "# Simulando erro de conversão \n",
    "age = input(\"Digite sua idade: \")\n",
    "if age > 18:\n",
    "    print(\"Você já pode ser preso..\")\n",
    "else:\n",
    "    print(\"Ainda não pode ser preso, mas tbm não pode dirigir legalmente.\")"
   ]
  },
  {
   "cell_type": "code",
   "execution_count": 12,
   "id": "dcae4dce",
   "metadata": {},
   "outputs": [
    {
     "name": "stdout",
     "output_type": "stream",
     "text": [
      "Ainda não pode ser preso, mas tbm não pode dirigir legalmente.\n"
     ]
    }
   ],
   "source": [
    "# Corrigindo a conversão da variável..\n",
    "age = int(input(\"Digite sua idade: \"))\n",
    "if age > 18:\n",
    "    print(\"Você já pode ser preso..\")\n",
    "else:\n",
    "    print(\"Ainda não pode ser preso, mas tbm não pode dirigir legalmente.\")"
   ]
  },
  {
   "cell_type": "code",
   "execution_count": 14,
   "id": "17d803e6",
   "metadata": {},
   "outputs": [
    {
     "data": {
      "text/plain": [
       "3"
      ]
     },
     "execution_count": 14,
     "metadata": {},
     "output_type": "execute_result"
    }
   ],
   "source": [
    "# Convertendo um número em string\n",
    "int(\"3\")"
   ]
  },
  {
   "cell_type": "code",
   "execution_count": 17,
   "id": "e2c6a700",
   "metadata": {},
   "outputs": [
    {
     "data": {
      "text/plain": [
       "4.0"
      ]
     },
     "execution_count": 17,
     "metadata": {},
     "output_type": "execute_result"
    }
   ],
   "source": [
    "# Convertendo um decial em inteiro\n",
    "float(int(4))"
   ]
  },
  {
   "cell_type": "code",
   "execution_count": 23,
   "id": "bd4208c4",
   "metadata": {},
   "outputs": [
    {
     "name": "stdout",
     "output_type": "stream",
     "text": [
      "O array tem 7 posições..\n"
     ]
    }
   ],
   "source": [
    "# Identificando o tamanho de um array\n",
    "array= [2,4,1,5,67,3,2]\n",
    "print(\"O array tem\",len(array), \"posições..\")"
   ]
  },
  {
   "cell_type": "code",
   "execution_count": 25,
   "id": "14b9446f",
   "metadata": {},
   "outputs": [
    {
     "name": "stdout",
     "output_type": "stream",
     "text": [
      "O maior valor no array é: 67\n",
      "O mínimo valor no array é: 1\n"
     ]
    }
   ],
   "source": [
    "# Função que varre o array e trás os valores extremos\n",
    "# Máximo valor\n",
    "print(\"O maior valor no array é:\",max(array))\n",
    "print(\"O mínimo valor no array é:\",min(array))"
   ]
  },
  {
   "cell_type": "code",
   "execution_count": 27,
   "id": "5ae21783",
   "metadata": {},
   "outputs": [
    {
     "data": {
      "text/plain": [
       "84"
      ]
     },
     "execution_count": 27,
     "metadata": {},
     "output_type": "execute_result"
    }
   ],
   "source": [
    "# Somando os valores de um array\n",
    "sum(array)"
   ]
  },
  {
   "cell_type": "code",
   "execution_count": null,
   "id": "54c4ff10",
   "metadata": {},
   "outputs": [],
   "source": []
  }
 ],
 "metadata": {
  "kernelspec": {
   "display_name": "base",
   "language": "python",
   "name": "python3"
  },
  "language_info": {
   "codemirror_mode": {
    "name": "ipython",
    "version": 3
   },
   "file_extension": ".py",
   "mimetype": "text/x-python",
   "name": "python",
   "nbconvert_exporter": "python",
   "pygments_lexer": "ipython3",
   "version": "3.12.7"
  }
 },
 "nbformat": 4,
 "nbformat_minor": 5
}
