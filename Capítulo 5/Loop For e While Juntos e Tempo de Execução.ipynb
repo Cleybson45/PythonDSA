{
 "cells": [
  {
   "cell_type": "markdown",
   "id": "31a31105",
   "metadata": {},
   "source": [
    "### Loop For e While Juntos e Tempo de Execução"
   ]
  },
  {
   "cell_type": "markdown",
   "id": "63f26ec9",
   "metadata": {},
   "source": [
    "Missão: Encontrar os números primos em uma coleção de números usando FOR e WHILE."
   ]
  },
  {
   "cell_type": "code",
   "execution_count": 28,
   "id": "b2b1f574",
   "metadata": {},
   "outputs": [
    {
     "name": "stdout",
     "output_type": "stream",
     "text": [
      "[2, 5, 7, 23]\n",
      "CPU times: total: 0 ns\n",
      "Wall time: 0 ns\n"
     ]
    }
   ],
   "source": [
    "%%time\n",
    "\n",
    "primos = []\n",
    "\n",
    "for n in [2,5,8,7,9,22,4,23,57,84]:\n",
    "    \n",
    "    controle = 2\n",
    "    eh_primo = True\n",
    "\n",
    "    while (controle <= n//2):\n",
    "        if n % controle == 0:\n",
    "            eh_primo = False\n",
    "            break\n",
    "        controle += 1\n",
    "\n",
    "    if eh_primo:\n",
    "        primos.append(n)\n",
    "\n",
    "print(primos)"
   ]
  }
 ],
 "metadata": {
  "kernelspec": {
   "display_name": "base",
   "language": "python",
   "name": "python3"
  },
  "language_info": {
   "codemirror_mode": {
    "name": "ipython",
    "version": 3
   },
   "file_extension": ".py",
   "mimetype": "text/x-python",
   "name": "python",
   "nbconvert_exporter": "python",
   "pygments_lexer": "ipython3",
   "version": "3.12.7"
  }
 },
 "nbformat": 4,
 "nbformat_minor": 5
}
