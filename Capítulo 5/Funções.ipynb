{
 "cells": [
  {
   "cell_type": "markdown",
   "id": "98b3ffee",
   "metadata": {},
   "source": [
    "### Funções"
   ]
  },
  {
   "cell_type": "code",
   "execution_count": 7,
   "id": "a03898bb",
   "metadata": {},
   "outputs": [],
   "source": [
    "# Criando uma função/objeto\n",
    "def printHW():\n",
    "    print(\"Buongiorno mondo\")"
   ]
  },
  {
   "cell_type": "code",
   "execution_count": 8,
   "id": "474ca58e",
   "metadata": {},
   "outputs": [
    {
     "name": "stdout",
     "output_type": "stream",
     "text": [
      "Buongiorno mondo\n"
     ]
    }
   ],
   "source": [
    "# Chamando a função/objeto\n",
    "printHW()"
   ]
  },
  {
   "cell_type": "code",
   "execution_count": 12,
   "id": "cac2555f",
   "metadata": {},
   "outputs": [],
   "source": [
    "def saudacao(nome):\n",
    "    print(f\"Ciao, {nome}!\")"
   ]
  },
  {
   "cell_type": "code",
   "execution_count": 13,
   "id": "7b62cefd",
   "metadata": {},
   "outputs": [
    {
     "name": "stdout",
     "output_type": "stream",
     "text": [
      "Ciao, Cleybson!\n"
     ]
    }
   ],
   "source": [
    "nome = input(\"Qual seu nome? \")\n",
    "saudacao(nome)"
   ]
  },
  {
   "cell_type": "code",
   "execution_count": 14,
   "id": "f421af32",
   "metadata": {},
   "outputs": [],
   "source": [
    "# Função para imprimir números\n",
    "def numeros():\n",
    "    for i in range(1,6):\n",
    "        print(i)"
   ]
  },
  {
   "cell_type": "code",
   "execution_count": 18,
   "id": "d0eec6b2",
   "metadata": {},
   "outputs": [
    {
     "name": "stdout",
     "output_type": "stream",
     "text": [
      "1\n",
      "2\n",
      "3\n",
      "4\n",
      "5\n"
     ]
    }
   ],
   "source": [
    "numeros()"
   ]
  },
  {
   "cell_type": "code",
   "execution_count": 29,
   "id": "31ac0630",
   "metadata": {},
   "outputs": [],
   "source": [
    "# Função para imprimir dois números e dps somá-los\n",
    "def soma(n1,n2):\n",
    "    print(n1, \" + \", n2, \" = \", n1+n2)"
   ]
  },
  {
   "cell_type": "code",
   "execution_count": 30,
   "id": "507c67f4",
   "metadata": {},
   "outputs": [
    {
     "name": "stdout",
     "output_type": "stream",
     "text": [
      "3  +  7  =  10\n"
     ]
    }
   ],
   "source": [
    "num1 = int(input(\"Digite o primeiro número: \"))\n",
    "num2 = int(input(\"Digite o segunto número: \"))\n",
    "soma(num1,num2)"
   ]
  },
  {
   "cell_type": "code",
   "execution_count": 36,
   "id": "e639eb20",
   "metadata": {},
   "outputs": [],
   "source": [
    "# E QUANDO NÃO SABEMOS QUANTOS PARÊMETROS VAMOS RECEBER NA FUNÇÃO??\n",
    "def nParametros (arg1, *vartuple):\n",
    "    print(f\"Argumento passado: {arg1}\")\n",
    "    for i in vartuple:\n",
    "        print(f\"Argumento passado: {i}\")\n",
    "    return\n"
   ]
  },
  {
   "cell_type": "code",
   "execution_count": 32,
   "id": "5e84f162",
   "metadata": {},
   "outputs": [
    {
     "name": "stdout",
     "output_type": "stream",
     "text": [
      "Argumento passado: 52\n"
     ]
    }
   ],
   "source": [
    "nParametros(52)"
   ]
  },
  {
   "cell_type": "code",
   "execution_count": 39,
   "id": "5e7eb966",
   "metadata": {},
   "outputs": [
    {
     "name": "stdout",
     "output_type": "stream",
     "text": [
      "Argumento passado: 52\n",
      "Argumento passado: Ciao\n",
      "Argumento passado: -8\n",
      "Argumento passado: Prego!\n",
      "Argumento passado: 3.98\n"
     ]
    }
   ],
   "source": [
    "nParametros(52,\"Ciao\",-8,\"Prego!\",3.98)"
   ]
  },
  {
   "cell_type": "code",
   "execution_count": null,
   "id": "799759c1",
   "metadata": {},
   "outputs": [],
   "source": []
  }
 ],
 "metadata": {
  "kernelspec": {
   "display_name": "base",
   "language": "python",
   "name": "python3"
  },
  "language_info": {
   "codemirror_mode": {
    "name": "ipython",
    "version": 3
   },
   "file_extension": ".py",
   "mimetype": "text/x-python",
   "name": "python",
   "nbconvert_exporter": "python",
   "pygments_lexer": "ipython3",
   "version": "3.12.7"
  }
 },
 "nbformat": 4,
 "nbformat_minor": 5
}
