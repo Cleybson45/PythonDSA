{
 "cells": [
  {
   "cell_type": "code",
   "execution_count": null,
   "id": "37a183f5-2eff-4f9c-a055-6a416a991dab",
   "metadata": {},
   "outputs": [],
   "source": [
    "num = 18\n",
    "while num <= 38:\n",
    "    print(num)\n",
    "    num += 1\n"
   ]
  },
  {
   "cell_type": "code",
   "execution_count": null,
   "id": "2e0d8392",
   "metadata": {},
   "outputs": [],
   "source": [
    "num = 18\n",
    "while num <= 38:\n",
    "    print(num)\n",
    "    num += 1\n",
    "else: \n",
    "    print(\"Número chegou a ser %s\"%(num))\n"
   ]
  },
  {
   "cell_type": "code",
   "execution_count": 16,
   "id": "abd91ce1",
   "metadata": {},
   "outputs": [
    {
     "name": "stdout",
     "output_type": "stream",
     "text": [
      "20\n",
      "21\n",
      "22\n",
      "23\n",
      "24\n",
      "25\n"
     ]
    }
   ],
   "source": [
    "x = 20\n",
    "while x < 30:\n",
    "    if x == 26:\n",
    "        break\n",
    "    else:\n",
    "        pass\n",
    "    print(x)\n",
    "    x+=1"
   ]
  },
  {
   "cell_type": "code",
   "execution_count": 21,
   "id": "6e992a2b",
   "metadata": {},
   "outputs": [
    {
     "name": "stdout",
     "output_type": "stream",
     "text": [
      "B\n",
      "i\n",
      "s\n",
      "c\n",
      "i\n",
      "t\n"
     ]
    }
   ],
   "source": [
    "for letra in \"Biscoito\":\n",
    "    if letra == \"o\":\n",
    "        continue\n",
    "    print(letra)"
   ]
  },
  {
   "cell_type": "code",
   "execution_count": null,
   "id": "1276c638",
   "metadata": {},
   "outputs": [],
   "source": []
  }
 ],
 "metadata": {
  "kernelspec": {
   "display_name": "base",
   "language": "python",
   "name": "python3"
  },
  "language_info": {
   "codemirror_mode": {
    "name": "ipython",
    "version": 3
   },
   "file_extension": ".py",
   "mimetype": "text/x-python",
   "name": "python",
   "nbconvert_exporter": "python",
   "pygments_lexer": "ipython3",
   "version": "3.12.7"
  }
 },
 "nbformat": 4,
 "nbformat_minor": 5
}
