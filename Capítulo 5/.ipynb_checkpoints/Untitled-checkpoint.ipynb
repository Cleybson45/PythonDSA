{
 "cells": [
  {
   "cell_type": "markdown",
   "id": "ac17d8a1-c9ab-4226-a8ae-1da524cbbb1e",
   "metadata": {},
   "source": [
    "### Condicional IF e ELSE"
   ]
  },
  {
   "cell_type": "code",
   "execution_count": 3,
   "id": "2309fe88-005c-4297-a83b-ff112061dd62",
   "metadata": {},
   "outputs": [
    {
     "name": "stdout",
     "output_type": "stream",
     "text": [
      "É maior\n"
     ]
    }
   ],
   "source": [
    "if 5 > 2:\n",
    "    print(\"É maior\")"
   ]
  },
  {
   "cell_type": "code",
   "execution_count": 5,
   "id": "9cd7cb20-61c1-4289-a427-8689667394f3",
   "metadata": {},
   "outputs": [
    {
     "name": "stdout",
     "output_type": "stream",
     "text": [
      "É maior\n"
     ]
    }
   ],
   "source": [
    "if 5 > 2:\n",
    "    print(\"É maior\")\n",
    "else:\n",
    "    print(\"Não, é menor\")"
   ]
  },
  {
   "cell_type": "code",
   "execution_count": 11,
   "id": "eb8212df-a07d-434c-8281-1c5c95bc2b25",
   "metadata": {},
   "outputs": [
    {
     "name": "stdout",
     "output_type": "stream",
     "text": [
      "O dia é Sábado\n"
     ]
    }
   ],
   "source": [
    "# IF e ELSE com variável..\n",
    "dia = \"Sábado\"\n",
    "if dia == \"Quinta\":\n",
    "    print(f\"O dia é {dia}\")\n",
    "else: \n",
    "    print(\"O dia é\", dia)"
   ]
  },
  {
   "cell_type": "code",
   "execution_count": 12,
   "id": "deff82b7-5939-40c2-8176-bb1f4f323d91",
   "metadata": {},
   "outputs": [
    {
     "name": "stdout",
     "output_type": "stream",
     "text": [
      "O número é menor que 10\n"
     ]
    }
   ],
   "source": [
    "# Acrescentando mais condições (verificações) com o ELIF \n",
    "\n",
    "number = 5\n",
    "if number <= 10:\n",
    "    print(\"O número é menor que 10\")\n",
    "elif number >= 5: \n",
    "    print(\"O número está entre 5 e 10\")\n",
    "else:\n",
    "    print(\"O número pode ser menor que 5 ou maior que 10\")"
   ]
  },
  {
   "cell_type": "markdown",
   "id": "305c95dd-6a7a-462c-aa0a-67bd4106c930",
   "metadata": {},
   "source": [
    "### Operadores Relacionais\n",
    "##### Compara valores e retorna um booleano"
   ]
  },
  {
   "cell_type": "code",
   "execution_count": 18,
   "id": "6f3e5f6a-447e-495f-add6-eb643ceb71cc",
   "metadata": {},
   "outputs": [
    {
     "data": {
      "text/plain": [
       "False"
      ]
     },
     "execution_count": 18,
     "metadata": {},
     "output_type": "execute_result"
    }
   ],
   "source": [
    "6 > 7"
   ]
  },
  {
   "cell_type": "code",
   "execution_count": 19,
   "id": "a830a971-105a-48a5-9013-6802fb746306",
   "metadata": {},
   "outputs": [
    {
     "data": {
      "text/plain": [
       "True"
      ]
     },
     "execution_count": 19,
     "metadata": {},
     "output_type": "execute_result"
    }
   ],
   "source": [
    "4 >= 2"
   ]
  },
  {
   "cell_type": "code",
   "execution_count": 20,
   "id": "9f78105e-51be-42a2-9733-0cff3b0182f9",
   "metadata": {},
   "outputs": [
    {
     "data": {
      "text/plain": [
       "True"
      ]
     },
     "execution_count": 20,
     "metadata": {},
     "output_type": "execute_result"
    }
   ],
   "source": [
    "4 == 4"
   ]
  },
  {
   "cell_type": "code",
   "execution_count": 21,
   "id": "15809ab1-fe8c-40c9-8e79-58c240760c72",
   "metadata": {},
   "outputs": [
    {
     "data": {
      "text/plain": [
       "False"
      ]
     },
     "execution_count": 21,
     "metadata": {},
     "output_type": "execute_result"
    }
   ],
   "source": [
    "2 == 7"
   ]
  },
  {
   "cell_type": "markdown",
   "id": "61afbb9a-9714-4a7e-aee8-4a86747e41ec",
   "metadata": {},
   "source": [
    "### Operadores Lógicos! "
   ]
  },
  {
   "cell_type": "code",
   "execution_count": 23,
   "id": "6689dca4-6c5b-45a1-a488-180234f11c82",
   "metadata": {},
   "outputs": [],
   "source": [
    "nome = \"Vitória\"\n",
    "idade = 30"
   ]
  },
  {
   "cell_type": "code",
   "execution_count": 27,
   "id": "42586a9e-dc68-4bbb-b181-13f24d4d432e",
   "metadata": {},
   "outputs": [
    {
     "name": "stdout",
     "output_type": "stream",
     "text": [
      "Olá, Vitória..\n"
     ]
    }
   ],
   "source": [
    "if nome == \"Alice\" and idade == 30:\n",
    "    print(\"Você não é a Vitória\")\n",
    "else:\n",
    "    print(\"Olá, Vitória..\")"
   ]
  },
  {
   "cell_type": "code",
   "execution_count": 28,
   "id": "17b35fe0-3239-4e83-b510-9c8014c6454f",
   "metadata": {},
   "outputs": [
    {
     "name": "stdout",
     "output_type": "stream",
     "text": [
      "Você não é a Vitória\n"
     ]
    }
   ],
   "source": [
    "if nome == \"Alice\" or idade == 30:\n",
    "    print(\"Você não é a Vitória\")\n",
    "else:\n",
    "    print(\"Olá, Vitória..\")"
   ]
  },
  {
   "cell_type": "code",
   "execution_count": 30,
   "id": "e307d992-3eae-4e38-979a-a53e05b8c2d1",
   "metadata": {},
   "outputs": [
    {
     "name": "stdout",
     "output_type": "stream",
     "text": [
      "Você não é a Vitória\n"
     ]
    }
   ],
   "source": [
    "# MAIS LEGÍVEL \n",
    "\n",
    "if (nome == \"Alice\") or (idade == 30):\n",
    "    print(\"Você não é a Vitória\")\n",
    "else:\n",
    "    print(\"Olá, Vitória..\")"
   ]
  },
  {
   "cell_type": "code",
   "execution_count": null,
   "id": "f22f275e-4495-4470-bb70-74a57ac25b6f",
   "metadata": {},
   "outputs": [],
   "source": []
  }
 ],
 "metadata": {
  "kernelspec": {
   "display_name": "Python 3 (ipykernel)",
   "language": "python",
   "name": "python3"
  },
  "language_info": {
   "codemirror_mode": {
    "name": "ipython",
    "version": 3
   },
   "file_extension": ".py",
   "mimetype": "text/x-python",
   "name": "python",
   "nbconvert_exporter": "python",
   "pygments_lexer": "ipython3",
   "version": "3.12.7"
  }
 },
 "nbformat": 4,
 "nbformat_minor": 5
}
