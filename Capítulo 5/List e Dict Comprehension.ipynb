{
 "cells": [
  {
   "cell_type": "markdown",
   "id": "31eecb1e",
   "metadata": {},
   "source": [
    "### List Comprehension"
   ]
  },
  {
   "cell_type": "code",
   "execution_count": 1,
   "id": "7b23aa3e",
   "metadata": {},
   "outputs": [
    {
     "data": {
      "text/plain": [
       "[0, 1, 2, 3, 4, 5, 6, 7, 8, 9]"
      ]
     },
     "execution_count": 1,
     "metadata": {},
     "output_type": "execute_result"
    }
   ],
   "source": [
    "# List comprehension para imprimir uma lista com 10 itens\n",
    "listaNumeros = [x for x in range(10)]\n",
    "listaNumeros"
   ]
  },
  {
   "cell_type": "code",
   "execution_count": 2,
   "id": "23491d25",
   "metadata": {},
   "outputs": [
    {
     "data": {
      "text/plain": [
       "[0, 2, 4, 6, 8, 10, 12, 14, 16, 18]"
      ]
     },
     "execution_count": 2,
     "metadata": {},
     "output_type": "execute_result"
    }
   ],
   "source": [
    "# Adicionando condições para saber quais os números pares..\n",
    "nPares = [x for x in range(20) if x % 2 == 0]\n",
    "nPares"
   ]
  },
  {
   "cell_type": "code",
   "execution_count": 11,
   "id": "dab6c79f",
   "metadata": {},
   "outputs": [],
   "source": [
    "# Lista de Frutas\n",
    "listaFrutas = [\"abacate\", \"mamão\", \"limão\", \"laranja\",\"tomate\"]\n",
    "frutasSelecionadas = []"
   ]
  },
  {
   "cell_type": "code",
   "execution_count": 12,
   "id": "430f4e7d",
   "metadata": {},
   "outputs": [
    {
     "data": {
      "text/plain": [
       "['abacate', 'mamão', 'laranja', 'tomate']"
      ]
     },
     "execution_count": 12,
     "metadata": {},
     "output_type": "execute_result"
    }
   ],
   "source": [
    "for fruta in listaFrutas:\n",
    "    if \"a\" in fruta:\n",
    "        frutasSelecionadas.append(fruta)\n",
    "\n",
    "frutasSelecionadas"
   ]
  },
  {
   "cell_type": "code",
   "execution_count": 10,
   "id": "90e145ef",
   "metadata": {},
   "outputs": [
    {
     "data": {
      "text/plain": [
       "['abacate', 'mamão', 'laranja', 'tomate']"
      ]
     },
     "execution_count": 10,
     "metadata": {},
     "output_type": "execute_result"
    }
   ],
   "source": [
    "frutasA = [fruta for fruta in listaFrutas if \"a\" in fruta]\n",
    "frutasA"
   ]
  },
  {
   "cell_type": "markdown",
   "id": "c139e2c3",
   "metadata": {},
   "source": [
    "### Dict Comprehension"
   ]
  },
  {
   "cell_type": "code",
   "execution_count": 15,
   "id": "2f89ffdb",
   "metadata": {},
   "outputs": [
    {
     "name": "stdout",
     "output_type": "stream",
     "text": [
      "{'Bob': 65, 'Gilson': 21, 'Vitoria': 30, 'Nikhocas': 28}\n"
     ]
    }
   ],
   "source": [
    "# Alunos e suas respectivas idades\n",
    "alunos = {'Bob':65, 'Gilson':21, 'Vitoria':30, 'Nikhocas':28}\n",
    "\n",
    "# Com Dict Comprehension\n",
    "alunoStatus = {x:y for (x,y) in alunos.items()}\n",
    "print(alunoStatus)"
   ]
  },
  {
   "cell_type": "code",
   "execution_count": 18,
   "id": "33de16b0",
   "metadata": {},
   "outputs": [
    {
     "name": "stdout",
     "output_type": "stream",
     "text": [
      "{'Ana': 8.5, 'Carla': 9.2}\n"
     ]
    }
   ],
   "source": [
    "notas_alunos = {\n",
    "    \"Ana\": 8.5,\n",
    "    \"Bruno\": 7.0,\n",
    "    \"Carla\": 9.2,\n",
    "    \"Diego\": 6.8,\n",
    "    \"Eduarda\": 7.9\n",
    "}\n",
    "\n",
    "aprovados = {k:v for (k,v) in notas_alunos.items() if v >= 8.0}\n",
    "print(aprovados)"
   ]
  },
  {
   "cell_type": "code",
   "execution_count": null,
   "id": "8c2010af",
   "metadata": {},
   "outputs": [
    {
     "name": "stdout",
     "output_type": "stream",
     "text": [
      "Ana: Aprovado\n",
      "Bruno: Aprovado\n",
      "Carla: Aprovado\n",
      "Diego: Reprovado\n",
      "Eduarda: Aprovado\n"
     ]
    }
   ],
   "source": [
    "statusAlunos = {\n",
    "    k:('Aprovado' if v >= 7.0 else 'Reprovado') \n",
    "    for (k,v) in notas_alunos.items()}\n",
    "\n",
    "for k,v in statusAlunos.items():\n",
    "    print(f\"{k}: {v}\")"
   ]
  },
  {
   "cell_type": "code",
   "execution_count": null,
   "id": "24cfbe9e",
   "metadata": {},
   "outputs": [],
   "source": []
  }
 ],
 "metadata": {
  "kernelspec": {
   "display_name": "base",
   "language": "python",
   "name": "python3"
  },
  "language_info": {
   "codemirror_mode": {
    "name": "ipython",
    "version": 3
   },
   "file_extension": ".py",
   "mimetype": "text/x-python",
   "name": "python",
   "nbconvert_exporter": "python",
   "pygments_lexer": "ipython3",
   "version": "3.12.7"
  }
 },
 "nbformat": 4,
 "nbformat_minor": 5
}
