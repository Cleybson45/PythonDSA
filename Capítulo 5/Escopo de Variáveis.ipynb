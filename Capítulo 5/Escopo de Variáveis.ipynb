{
 "cells": [
  {
   "cell_type": "markdown",
   "id": "0302b17e",
   "metadata": {},
   "source": [
    "### Escopo de Variáveis: Global e Local"
   ]
  },
  {
   "cell_type": "code",
   "execution_count": 5,
   "id": "836c98c5",
   "metadata": {},
   "outputs": [],
   "source": [
    "varglobal = 15 #Variável global, é enxerga por todo escopo do código.\n",
    "\n",
    "def soma(n1,n2):\n",
    "    varglobal = n1+n2 # Variável local é enxergava apenas dentro da função\n",
    "    print(\"Somando fica: \", varglobal)"
   ]
  },
  {
   "cell_type": "code",
   "execution_count": 7,
   "id": "d48a5f17",
   "metadata": {},
   "outputs": [
    {
     "name": "stdout",
     "output_type": "stream",
     "text": [
      "15\n",
      "Somando fica:  8\n"
     ]
    }
   ],
   "source": [
    "# EMBORA TENHAM O MESMO NOME CADA VARIÁVEL FOI DECLARA EM UM LUGAR DISTINTO DO CÓDIGO\n",
    "# PORTANTO, CADA UMA É ENXERGADA DE DETERMINADA FORMA PELO INTERPRETADOR PYTHON\n",
    "print(varglobal)\n",
    "soma(2,6)"
   ]
  },
  {
   "cell_type": "code",
   "execution_count": 23,
   "id": "61391288",
   "metadata": {},
   "outputs": [],
   "source": [
    "# OUTRO EXEMPLO..\n",
    "\n",
    "Var_global = 16\n",
    "\n",
    "def imprimeNumero(n):\n",
    "    Var_local = n\n",
    "    return Var_local\n"
   ]
  },
  {
   "cell_type": "code",
   "execution_count": 25,
   "id": "11b0fb02",
   "metadata": {},
   "outputs": [
    {
     "name": "stdout",
     "output_type": "stream",
     "text": [
      "Variável global:  16\n",
      "Variável Local:  6\n"
     ]
    }
   ],
   "source": [
    "print(\"Variável global: \", Var_global)\n",
    "print(\"Variável Local: \", imprimeNumero(6))"
   ]
  },
  {
   "cell_type": "code",
   "execution_count": null,
   "id": "816845c4",
   "metadata": {},
   "outputs": [
    {
     "ename": "NameError",
     "evalue": "name 'Var_local' is not defined",
     "output_type": "error",
     "traceback": [
      "\u001b[1;31m---------------------------------------------------------------------------\u001b[0m",
      "\u001b[1;31mNameError\u001b[0m                                 Traceback (most recent call last)",
      "Cell \u001b[1;32mIn[10], line 2\u001b[0m\n\u001b[0;32m      1\u001b[0m \u001b[38;5;66;03m# VEJAMOS O SEGUINTE, IREI CHAMAR A FUNÇÃO LOCAL FORA DA FUNÇÃO\u001b[39;00m\n\u001b[1;32m----> 2\u001b[0m \u001b[38;5;28mprint\u001b[39m(Var_local)\n",
      "\u001b[1;31mNameError\u001b[0m: name 'Var_local' is not defined"
     ]
    }
   ],
   "source": [
    "# VEJAMOS O SEGUINTE, IREI CHAMAR A FUNÇÃO LOCAL FORA DA FUNÇÃO\n",
    "print(Var_local)\n",
    "\n",
    "# DAR ERRO PQ FORA DA FUNÇÃO ELA SIMPLESMENTE NÃO EXISTE."
   ]
  },
  {
   "cell_type": "code",
   "execution_count": null,
   "id": "ecfc5680",
   "metadata": {},
   "outputs": [],
   "source": []
  }
 ],
 "metadata": {
  "kernelspec": {
   "display_name": "base",
   "language": "python",
   "name": "python3"
  },
  "language_info": {
   "codemirror_mode": {
    "name": "ipython",
    "version": 3
   },
   "file_extension": ".py",
   "mimetype": "text/x-python",
   "name": "python",
   "nbconvert_exporter": "python",
   "pygments_lexer": "ipython3",
   "version": "3.12.7"
  }
 },
 "nbformat": 4,
 "nbformat_minor": 5
}
