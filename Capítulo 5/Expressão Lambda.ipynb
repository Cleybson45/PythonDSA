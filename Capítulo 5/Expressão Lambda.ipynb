{
 "cells": [
  {
   "cell_type": "markdown",
   "id": "a7a6dd33",
   "metadata": {},
   "source": [
    "### Expressão Lambda "
   ]
  },
  {
   "cell_type": "code",
   "execution_count": 3,
   "id": "713b01e4",
   "metadata": {},
   "outputs": [],
   "source": [
    "def potencia(n):\n",
    "    resultado = n ** 2\n",
    "    return resultado"
   ]
  },
  {
   "cell_type": "code",
   "execution_count": 5,
   "id": "0c3b1c2b",
   "metadata": {},
   "outputs": [
    {
     "data": {
      "text/plain": [
       "25"
      ]
     },
     "execution_count": 5,
     "metadata": {},
     "output_type": "execute_result"
    }
   ],
   "source": [
    "potencia(5)"
   ]
  },
  {
   "cell_type": "code",
   "execution_count": null,
   "id": "b7af2a5f",
   "metadata": {},
   "outputs": [],
   "source": [
    "# Melhorando com duas linhas apenas..\n",
    "def potencia1(n):\n",
    "    return n ** 2"
   ]
  },
  {
   "cell_type": "code",
   "execution_count": 7,
   "id": "2e24094e",
   "metadata": {},
   "outputs": [
    {
     "data": {
      "text/plain": [
       "25"
      ]
     },
     "execution_count": 7,
     "metadata": {},
     "output_type": "execute_result"
    }
   ],
   "source": [
    "potencia1(5)"
   ]
  },
  {
   "cell_type": "code",
   "execution_count": 10,
   "id": "cf06a46f",
   "metadata": {},
   "outputs": [],
   "source": [
    "# Melhorando com 1 linha apenas.. \n",
    "def potencia2(n): return n ** 2"
   ]
  },
  {
   "cell_type": "code",
   "execution_count": 11,
   "id": "1e7896e2",
   "metadata": {},
   "outputs": [
    {
     "data": {
      "text/plain": [
       "36"
      ]
     },
     "execution_count": 11,
     "metadata": {},
     "output_type": "execute_result"
    }
   ],
   "source": [
    "potencia2(6)"
   ]
  },
  {
   "cell_type": "code",
   "execution_count": 14,
   "id": "b7226589",
   "metadata": {},
   "outputs": [
    {
     "data": {
      "text/plain": [
       "25"
      ]
     },
     "execution_count": 14,
     "metadata": {},
     "output_type": "execute_result"
    }
   ],
   "source": [
    "# Agora vamos usar a expressão Lambda, para criar uma função em tempo de execução, \n",
    "# uma função que não precisa ser definida por um nome, uma função anônima, que é executada \n",
    "# apenas para retornar algo e logo não existe mais.\n",
    "\n",
    "potencia = lambda n: n ** 2\n",
    "potencia(5)"
   ]
  },
  {
   "cell_type": "code",
   "execution_count": 15,
   "id": "ded04f3e",
   "metadata": {},
   "outputs": [],
   "source": [
    "# Podemos tbm retornar booleanos\n",
    "ePar = lambda n: n % 2 == 0"
   ]
  },
  {
   "cell_type": "code",
   "execution_count": 16,
   "id": "d308eaa2",
   "metadata": {},
   "outputs": [
    {
     "data": {
      "text/plain": [
       "True"
      ]
     },
     "execution_count": 16,
     "metadata": {},
     "output_type": "execute_result"
    }
   ],
   "source": [
    "ePar(2)"
   ]
  },
  {
   "cell_type": "code",
   "execution_count": 18,
   "id": "b6d3a4e7",
   "metadata": {},
   "outputs": [
    {
     "data": {
      "text/plain": [
       "False"
      ]
     },
     "execution_count": 18,
     "metadata": {},
     "output_type": "execute_result"
    }
   ],
   "source": [
    "ePar(3)"
   ]
  },
  {
   "cell_type": "code",
   "execution_count": 20,
   "id": "bebc2518",
   "metadata": {},
   "outputs": [
    {
     "data": {
      "text/plain": [
       "'P'"
      ]
     },
     "execution_count": 20,
     "metadata": {},
     "output_type": "execute_result"
    }
   ],
   "source": [
    "# Com strings\n",
    "texto = lambda x: x[0]\n",
    "texto(\"Python\")"
   ]
  },
  {
   "cell_type": "code",
   "execution_count": 22,
   "id": "87c87395",
   "metadata": {},
   "outputs": [
    {
     "data": {
      "text/plain": [
       "'nohtyP'"
      ]
     },
     "execution_count": 22,
     "metadata": {},
     "output_type": "execute_result"
    }
   ],
   "source": [
    "textoInvertido = lambda x: x[::-1]\n",
    "textoInvertido(\"Python\")"
   ]
  },
  {
   "cell_type": "code",
   "execution_count": 23,
   "id": "e361a9c4",
   "metadata": {},
   "outputs": [
    {
     "data": {
      "text/plain": [
       "14"
      ]
     },
     "execution_count": 23,
     "metadata": {},
     "output_type": "execute_result"
    }
   ],
   "source": [
    "# Operações numéricas\n",
    "soma = lambda x,y: x+y\n",
    "soma(5,9)"
   ]
  }
 ],
 "metadata": {
  "kernelspec": {
   "display_name": "base",
   "language": "python",
   "name": "python3"
  },
  "language_info": {
   "codemirror_mode": {
    "name": "ipython",
    "version": 3
   },
   "file_extension": ".py",
   "mimetype": "text/x-python",
   "name": "python",
   "nbconvert_exporter": "python",
   "pygments_lexer": "ipython3",
   "version": "3.12.7"
  }
 },
 "nbformat": 4,
 "nbformat_minor": 5
}
