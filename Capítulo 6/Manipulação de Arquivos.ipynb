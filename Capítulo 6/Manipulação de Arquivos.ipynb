{
 "cells": [
  {
   "cell_type": "markdown",
   "id": "af96072e",
   "metadata": {},
   "source": [
    "### Manipulação de Arquivos\n",
    "\n",
    "##### Lendo Arquivos.."
   ]
  },
  {
   "cell_type": "code",
   "execution_count": null,
   "id": "3cb2bf57",
   "metadata": {},
   "outputs": [],
   "source": [
    "# Abrindo o arquivo..\n",
    "arq1 = open('Arquivos/arquivo1.txt','r') # r = read"
   ]
  },
  {
   "cell_type": "code",
   "execution_count": null,
   "id": "91ca4ef4",
   "metadata": {},
   "outputs": [
    {
     "name": "stdout",
     "output_type": "stream",
     "text": [
      "A Data Science Academy fornece cursos de alta qualidade e que transmitem muito conhecimento.\n"
     ]
    }
   ],
   "source": [
    "# Lendo o arquivos..\n",
    "print(arq1.read())\n",
    "# Por padrão quando ele ler o arquivo ele deixa o cursor no final do arquivo,\n",
    "# se precisar ler novamente, precisa mover o cursor para o início, usando a função seek(0,0)"
   ]
  },
  {
   "cell_type": "code",
   "execution_count": 4,
   "id": "5875b4ce",
   "metadata": {},
   "outputs": [
    {
     "name": "stdout",
     "output_type": "stream",
     "text": [
      "0\n"
     ]
    }
   ],
   "source": [
    "# Retornando para o início do arquivo.. \n",
    "print(arq1.seek(0,0))"
   ]
  },
  {
   "cell_type": "code",
   "execution_count": 3,
   "id": "943f4439",
   "metadata": {},
   "outputs": [
    {
     "name": "stdout",
     "output_type": "stream",
     "text": [
      "92\n"
     ]
    }
   ],
   "source": [
    "# Contando o número de caractes\n",
    "print(arq1.tell())"
   ]
  },
  {
   "cell_type": "code",
   "execution_count": 5,
   "id": "e8c1978d",
   "metadata": {},
   "outputs": [
    {
     "name": "stdout",
     "output_type": "stream",
     "text": [
      "A Data Science Academy \n"
     ]
    }
   ],
   "source": [
    "# Lendo os primeiros 25 caracteres.. \n",
    "print(arq1.read(23))"
   ]
  },
  {
   "cell_type": "markdown",
   "id": "cab80dba",
   "metadata": {},
   "source": [
    "##### Gravando Arquivos.."
   ]
  },
  {
   "cell_type": "code",
   "execution_count": 25,
   "id": "027c20da",
   "metadata": {},
   "outputs": [],
   "source": [
    "arq2 = open('Arquivos/arquivo_.txt','w') # w = write\n",
    "# OBS: No modo write (escrita) o Python sobrescreve um arquivo já existente.\n",
    "#      Caso o arquivo ainda não existe, ele cria o arquivo."
   ]
  },
  {
   "cell_type": "code",
   "execution_count": 26,
   "id": "04aae914",
   "metadata": {},
   "outputs": [
    {
     "ename": "UnsupportedOperation",
     "evalue": "not readable",
     "output_type": "error",
     "traceback": [
      "\u001b[1;31m---------------------------------------------------------------------------\u001b[0m",
      "\u001b[1;31mUnsupportedOperation\u001b[0m                      Traceback (most recent call last)",
      "Cell \u001b[1;32mIn[26], line 2\u001b[0m\n\u001b[0;32m      1\u001b[0m \u001b[38;5;66;03m# Tentando abrir o arq2.\u001b[39;00m\n\u001b[1;32m----> 2\u001b[0m \u001b[38;5;28mprint\u001b[39m(arq2\u001b[38;5;241m.\u001b[39mread())\n",
      "\u001b[1;31mUnsupportedOperation\u001b[0m: not readable"
     ]
    }
   ],
   "source": [
    "# Tentando abrir o arq2.\n",
    "print(arq2.read())\n",
    "# Como abri ele apenas para gravação (escrita) não é possível lê-lo."
   ]
  },
  {
   "cell_type": "code",
   "execution_count": 27,
   "id": "9df6def7",
   "metadata": {},
   "outputs": [
    {
     "data": {
      "text/plain": [
       "30"
      ]
     },
     "execution_count": 27,
     "metadata": {},
     "output_type": "execute_result"
    }
   ],
   "source": [
    "# Escrevendo (gravando) em um arquivo com o .write\n",
    "arq2.write(\"Manipulando arquivos em Python\")"
   ]
  },
  {
   "cell_type": "code",
   "execution_count": 28,
   "id": "79f2c49a",
   "metadata": {},
   "outputs": [],
   "source": [
    "arq2.close()"
   ]
  },
  {
   "cell_type": "code",
   "execution_count": 29,
   "id": "bb7006dc",
   "metadata": {},
   "outputs": [
    {
     "name": "stdout",
     "output_type": "stream",
     "text": [
      "Manipulando arquivos em Python\n"
     ]
    }
   ],
   "source": [
    "arq2 = open('Arquivos/arquivo_.txt', 'r')\n",
    "print(arq2.read())"
   ]
  },
  {
   "cell_type": "code",
   "execution_count": 30,
   "id": "acd0739d",
   "metadata": {},
   "outputs": [],
   "source": [
    "# Escrevendo em um arquivo sem sobrescrevê-lo\n",
    "arq2 = open('Arquivos/arquivo_.txt', 'a') # a = append"
   ]
  },
  {
   "cell_type": "code",
   "execution_count": 31,
   "id": "b22c24f6",
   "metadata": {},
   "outputs": [
    {
     "data": {
      "text/plain": [
       "55"
      ]
     },
     "execution_count": 31,
     "metadata": {},
     "output_type": "execute_result"
    }
   ],
   "source": [
    "arq2.write(', adicionando conteúdo sem sobrescrever o arquivo todo.')"
   ]
  },
  {
   "cell_type": "code",
   "execution_count": 32,
   "id": "0fd424c7",
   "metadata": {},
   "outputs": [],
   "source": [
    "arq2.close()"
   ]
  },
  {
   "cell_type": "code",
   "execution_count": 33,
   "id": "ea5d7ba1",
   "metadata": {},
   "outputs": [
    {
     "name": "stdout",
     "output_type": "stream",
     "text": [
      "Manipulando arquivos em Python, adicionando conteúdo sem sobrescrever o arquivo todo.\n"
     ]
    }
   ],
   "source": [
    "arq2 = open('Arquivos/arquivo_.txt','r')\n",
    "print(arq2.read())"
   ]
  },
  {
   "cell_type": "code",
   "execution_count": 34,
   "id": "cbf2f4d8",
   "metadata": {},
   "outputs": [
    {
     "data": {
      "text/plain": [
       "0"
      ]
     },
     "execution_count": 34,
     "metadata": {},
     "output_type": "execute_result"
    }
   ],
   "source": [
    "arq2.seek(0,0)"
   ]
  },
  {
   "cell_type": "code",
   "execution_count": 35,
   "id": "0d123d6d",
   "metadata": {},
   "outputs": [
    {
     "name": "stdout",
     "output_type": "stream",
     "text": [
      "Manipulando arquivos em Python, adicionando conteúdo sem sobrescrever o arquivo todo.\n"
     ]
    }
   ],
   "source": [
    "print(arq2.read())"
   ]
  }
 ],
 "metadata": {
  "kernelspec": {
   "display_name": "base",
   "language": "python",
   "name": "python3"
  },
  "language_info": {
   "codemirror_mode": {
    "name": "ipython",
    "version": 3
   },
   "file_extension": ".py",
   "mimetype": "text/x-python",
   "name": "python",
   "nbconvert_exporter": "python",
   "pygments_lexer": "ipython3",
   "version": "3.12.7"
  }
 },
 "nbformat": 4,
 "nbformat_minor": 5
}
