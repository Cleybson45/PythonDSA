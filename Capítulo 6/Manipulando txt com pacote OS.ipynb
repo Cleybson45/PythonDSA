{
 "cells": [
  {
   "cell_type": "markdown",
   "id": "40de23ba",
   "metadata": {},
   "source": [
    "##### Manipulando um arquivo txt com o Pacote OS"
   ]
  },
  {
   "cell_type": "code",
   "execution_count": 2,
   "id": "e52b176a",
   "metadata": {},
   "outputs": [
    {
     "name": "stdout",
     "output_type": "stream",
     "text": [
      "Esse é um texto, que na linha abaixo será acrescido./nEssa linha acresce o texto que foi iniciado acima. Mas logo virá uma outra linha./nÚltima linha prometo, acho até que não precisava de três, mas cá estamos e para lá vamos, rsrs\n"
     ]
    }
   ],
   "source": [
    "import os\n",
    "\n",
    "texto = \"Esse é um texto, que na linha abaixo será acrescido./n\"\n",
    "texto = texto + \"Essa linha acresce o texto que foi iniciado acima. Mas logo virá uma outra linha./n\"\n",
    "texto += \"Última linha prometo, acho até que não precisava de três, mas cá estamos e para lá vamos, rsrs\"\n",
    "\n",
    "print(texto)"
   ]
  },
  {
   "cell_type": "code",
   "execution_count": null,
   "id": "e7f2bf4f",
   "metadata": {},
   "outputs": [],
   "source": [
    "arquivo = open(os.path.join('Arquivos/textoManupulandoTXT.txt'),'w')"
   ]
  },
  {
   "cell_type": "code",
   "execution_count": 4,
   "id": "fa9c9d2b",
   "metadata": {},
   "outputs": [],
   "source": [
    "# Até agora, o que vamos gravar no arquivo 'textoManupulandoTXT.txt' está na variável 'texto'\n",
    "for palavra in texto.split():\n",
    "    arquivo.write(palavra + \" \")\n",
    "\n",
    "arquivo.close()"
   ]
  },
  {
   "cell_type": "code",
   "execution_count": 10,
   "id": "e1ceb706",
   "metadata": {},
   "outputs": [
    {
     "name": "stdout",
     "output_type": "stream",
     "text": [
      "Esse é um texto, que na linha abaixo será acrescido./nEssa linha acresce o texto que foi iniciado acima. Mas logo virá uma outra linha./nÚltima linha prometo, acho até que não precisava de três, mas cá estamos e para lá vamos, rsrs \n"
     ]
    }
   ],
   "source": [
    "arquivo = open(os.path.join('Arquivos/textoManupulandoTXT.txt'),'r')\n",
    "conteudo = arquivo.read()\n",
    "arquivo.close()\n",
    "print(conteudo)"
   ]
  }
 ],
 "metadata": {
  "kernelspec": {
   "display_name": "base",
   "language": "python",
   "name": "python3"
  },
  "language_info": {
   "codemirror_mode": {
    "name": "ipython",
    "version": 3
   },
   "file_extension": ".py",
   "mimetype": "text/x-python",
   "name": "python",
   "nbconvert_exporter": "python",
   "pygments_lexer": "ipython3",
   "version": "3.12.7"
  }
 },
 "nbformat": 4,
 "nbformat_minor": 5
}
