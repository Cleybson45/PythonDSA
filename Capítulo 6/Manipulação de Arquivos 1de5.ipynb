{
 "cells": [
  {
   "cell_type": "markdown",
   "id": "af96072e",
   "metadata": {},
   "source": [
    "### Manipulação de Arquivos\n",
    "\n",
    "##### Lendo Arquivos.."
   ]
  },
  {
   "cell_type": "code",
   "execution_count": null,
   "id": "3cb2bf57",
   "metadata": {},
   "outputs": [],
   "source": [
    "# Abrindo o arquivo..\n",
    "arq1 = open('Arquivos/arquivo1.txt','r') # r = read"
   ]
  },
  {
   "cell_type": "code",
   "execution_count": null,
   "id": "91ca4ef4",
   "metadata": {},
   "outputs": [
    {
     "name": "stdout",
     "output_type": "stream",
     "text": [
      "A Data Science Academy fornece cursos de alta qualidade e que transmitem muito conhecimento.\n"
     ]
    }
   ],
   "source": [
    "# Lendo o arquivos..\n",
    "print(arq1.read())\n",
    "# Por padrão quando ele ler o arquivo ele deixa o cursor no final do arquivo,\n",
    "# se precisar ler novamente, precisa mover o cursor para o início, usando a função seek(0,0)"
   ]
  },
  {
   "cell_type": "code",
   "execution_count": 4,
   "id": "5875b4ce",
   "metadata": {},
   "outputs": [
    {
     "name": "stdout",
     "output_type": "stream",
     "text": [
      "0\n"
     ]
    }
   ],
   "source": [
    "# Retornando para o início do arquivo.. \n",
    "print(arq1.seek(0,0))"
   ]
  },
  {
   "cell_type": "code",
   "execution_count": 3,
   "id": "943f4439",
   "metadata": {},
   "outputs": [
    {
     "name": "stdout",
     "output_type": "stream",
     "text": [
      "92\n"
     ]
    }
   ],
   "source": [
    "# Contando o número de caractes\n",
    "print(arq1.tell())"
   ]
  },
  {
   "cell_type": "code",
   "execution_count": 5,
   "id": "e8c1978d",
   "metadata": {},
   "outputs": [
    {
     "name": "stdout",
     "output_type": "stream",
     "text": [
      "A Data Science Academy \n"
     ]
    }
   ],
   "source": [
    "# Lendo os primeiros 25 caracteres.. \n",
    "print(arq1.read(23))"
   ]
  }
 ],
 "metadata": {
  "kernelspec": {
   "display_name": "base",
   "language": "python",
   "name": "python3"
  },
  "language_info": {
   "codemirror_mode": {
    "name": "ipython",
    "version": 3
   },
   "file_extension": ".py",
   "mimetype": "text/x-python",
   "name": "python",
   "nbconvert_exporter": "python",
   "pygments_lexer": "ipython3",
   "version": "3.12.7"
  }
 },
 "nbformat": 4,
 "nbformat_minor": 5
}
