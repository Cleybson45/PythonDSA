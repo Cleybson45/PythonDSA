{
 "cells": [
  {
   "cell_type": "markdown",
   "id": "38f6034e-c13b-4778-90ca-0bd47b30ab21",
   "metadata": {},
   "source": [
    "## Aprendendo sobre List Comprehension\n",
    "\n",
    "#List Comprehension: é uma forma compacta e eficiente de criar listas em Python, que permite construir uma nova lista a partir de uma existente, aplicando uma expressão a cada elemento da lista original e, opcionalmente, filtrando elementos com base em uma condição."
   ]
  },
  {
   "cell_type": "code",
   "execution_count": 2,
   "id": "4b4fcf34-2593-4a50-997b-c16042964c24",
   "metadata": {},
   "outputs": [],
   "source": [
    "# Cria uma lista com os números entre 1 e 100\n",
    "numeros = list(range(1, 101)) \n",
    "#Essa lista tem o 101, pq o segundo parâmetro da lista é exclusivo, ou seja, ele não entra na lista."
   ]
  },
  {
   "cell_type": "code",
   "execution_count": 3,
   "id": "01693932-54e9-452c-8864-06e2a21e0c65",
   "metadata": {},
   "outputs": [
    {
     "name": "stdout",
     "output_type": "stream",
     "text": [
      "[4, 8, 12, 16, 20, 24, 28, 32, 36, 40, 44, 48, 52, 56, 60, 64, 68, 72, 76, 80, 84, 88, 92, 96, 100]\n"
     ]
    }
   ],
   "source": [
    "nPares_div4 = [numero for numero in numeros if numero % 2 == 0 and numero % 4 == 0]\n",
    "print(nPares_div4)"
   ]
  }
 ],
 "metadata": {
  "kernelspec": {
   "display_name": "Python 3 (ipykernel)",
   "language": "python",
   "name": "python3"
  },
  "language_info": {
   "codemirror_mode": {
    "name": "ipython",
    "version": 3
   },
   "file_extension": ".py",
   "mimetype": "text/x-python",
   "name": "python",
   "nbconvert_exporter": "python",
   "pygments_lexer": "ipython3",
   "version": "3.12.7"
  }
 },
 "nbformat": 4,
 "nbformat_minor": 5
}
