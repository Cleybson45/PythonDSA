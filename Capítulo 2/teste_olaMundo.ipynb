{
 "cells": [
  {
   "cell_type": "code",
   "execution_count": 2,
   "id": "00ecf408-8a70-4b58-bcd2-7c73fb343fe0",
   "metadata": {},
   "outputs": [
    {
     "data": {
      "text/plain": [
       "4"
      ]
     },
     "execution_count": 2,
     "metadata": {},
     "output_type": "execute_result"
    }
   ],
   "source": [
    "2 + 2 "
   ]
  },
  {
   "cell_type": "code",
   "execution_count": 3,
   "id": "f243ee6f-4d3d-48f1-9f1a-cda18db6c056",
   "metadata": {},
   "outputs": [
    {
     "name": "stdout",
     "output_type": "stream",
     "text": [
      "Olá mundo\n"
     ]
    }
   ],
   "source": [
    "print(\"Olá mundo\")"
   ]
  },
  {
   "cell_type": "code",
   "execution_count": 6,
   "id": "eacfb641-b366-4582-b282-d69cc174ec3f",
   "metadata": {},
   "outputs": [
    {
     "name": "stdout",
     "output_type": "stream",
     "text": [
      "4\n",
      "8\n",
      "12\n",
      "16\n",
      "20\n",
      "24\n",
      "28\n",
      "32\n",
      "36\n",
      "40\n",
      "44\n",
      "48\n",
      "52\n",
      "56\n",
      "60\n",
      "64\n",
      "68\n",
      "72\n",
      "76\n",
      "80\n",
      "84\n",
      "88\n",
      "92\n",
      "96\n",
      "100\n"
     ]
    }
   ],
   "source": [
    "# Cria uma lista com os números entre 1 e 100\n",
    "numeros = list(range(1, 101))\n",
    "\n",
    "# Percorre a lista e verifica se o número é par e divisível por 4\n",
    "for numero in numeros:\n",
    "    if numero % 2 == 0 and numero % 4 == 0:\n",
    "        print(numero)"
   ]
  },
  {
   "cell_type": "code",
   "execution_count": null,
   "id": "2f7f2687-d181-4fda-b8e0-c740735cc225",
   "metadata": {},
   "outputs": [],
   "source": []
  }
 ],
 "metadata": {
  "kernelspec": {
   "display_name": "Python 3 (ipykernel)",
   "language": "python",
   "name": "python3"
  },
  "language_info": {
   "codemirror_mode": {
    "name": "ipython",
    "version": 3
   },
   "file_extension": ".py",
   "mimetype": "text/x-python",
   "name": "python",
   "nbconvert_exporter": "python",
   "pygments_lexer": "ipython3",
   "version": "3.12.7"
  }
 },
 "nbformat": 4,
 "nbformat_minor": 5
}
