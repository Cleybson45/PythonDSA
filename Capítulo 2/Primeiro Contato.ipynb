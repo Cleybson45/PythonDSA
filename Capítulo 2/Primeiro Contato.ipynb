{
 "cells": [
  {
   "cell_type": "code",
   "execution_count": 1,
   "id": "fa166ee2-0516-43b2-b855-36c6f8641288",
   "metadata": {},
   "outputs": [],
   "source": [
    "# Cria uma lista com os números entre 1 e 100\n",
    "numeros = list(range(1, 101)) \n",
    "#Essa lista tem o 101, pq o segundo parâmetro da lista é exclusivo, ou seja, ele não entra na lista."
   ]
  },
  {
   "cell_type": "code",
   "execution_count": 2,
   "id": "7be54e58-bf3c-4c70-8de1-420ea71aacca",
   "metadata": {},
   "outputs": [
    {
     "data": {
      "text/plain": [
       "list"
      ]
     },
     "execution_count": 2,
     "metadata": {},
     "output_type": "execute_result"
    }
   ],
   "source": [
    "#Descobrindo o tipo de uma variável\n",
    "type(numeros)"
   ]
  },
  {
   "cell_type": "code",
   "execution_count": 3,
   "id": "07500480-4eb4-4a8d-ab3a-88114939556d",
   "metadata": {},
   "outputs": [
    {
     "name": "stdout",
     "output_type": "stream",
     "text": [
      "4\n",
      "8\n",
      "12\n",
      "16\n",
      "20\n",
      "24\n",
      "28\n",
      "32\n",
      "36\n",
      "40\n",
      "44\n",
      "48\n",
      "52\n",
      "56\n",
      "60\n",
      "64\n",
      "68\n",
      "72\n",
      "76\n",
      "80\n",
      "84\n",
      "88\n",
      "92\n",
      "96\n",
      "100\n"
     ]
    }
   ],
   "source": [
    "# Percorre a lista e verifica se o número é par e divisível por 4\n",
    "for numero in numeros:\n",
    "    if numero % 2 == 0 and numero % 4 == 0:\n",
    "        print(numero)"
   ]
  },
  {
   "cell_type": "code",
   "execution_count": null,
   "id": "2fec92b5-1cd8-4795-aebc-4919f7cce19b",
   "metadata": {},
   "outputs": [],
   "source": []
  }
 ],
 "metadata": {
  "kernelspec": {
   "display_name": "Python 3 (ipykernel)",
   "language": "python",
   "name": "python3"
  },
  "language_info": {
   "codemirror_mode": {
    "name": "ipython",
    "version": 3
   },
   "file_extension": ".py",
   "mimetype": "text/x-python",
   "name": "python",
   "nbconvert_exporter": "python",
   "pygments_lexer": "ipython3",
   "version": "3.12.7"
  }
 },
 "nbformat": 4,
 "nbformat_minor": 5
}
