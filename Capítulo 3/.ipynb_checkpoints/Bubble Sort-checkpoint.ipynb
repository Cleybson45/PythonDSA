{
 "cells": [
  {
   "cell_type": "markdown",
   "id": "ad6e9eaf-4c62-4f93-b9d5-681b698d0826",
   "metadata": {},
   "source": [
    "### Bubble Sort\n",
    "Este algoritmo tem esse nome pela maneira que ordena uma sequência de números, ele \"varre\" uma sequência de números comparando o atual número com o seu vizinho, se caso o seu vizinho for menor que o número atual, o algoritmo os troca de lugar e passar a comparação para o próximo vizinho. Ele varre a sequência de números até que o última flutue para o final da sequência e assim conclua seu propósito."
   ]
  },
  {
   "cell_type": "markdown",
   "id": "fb920bd3-8183-4cc6-b3bb-4c42b5fc977d",
   "metadata": {},
   "source": [
    "### Pseudocódigo\n",
    "INICIO\n",
    "    Declare uma lista de números\n",
    "    Crie uma estrutura de repetição para varrer cada valor I da lista de tamanho n\n",
    "    Para cada valor J da lista de tamanho n - 1 \n",
    "    Compare os valores I e J e os troque de lugar deixando do menor para o maior.\n",
    "    Faça isso até que a lista esteja ordenada\n",
    "    Exija a lista\n",
    "FIM"
   ]
  },
  {
   "cell_type": "code",
   "execution_count": 1,
   "id": "508818ec-4d0d-4509-905d-456a0749e870",
   "metadata": {},
   "outputs": [],
   "source": [
    "lista = [2,5,4,7,8]"
   ]
  },
  {
   "cell_type": "code",
   "execution_count": null,
   "id": "93e1c146-2f8d-4b5c-a808-ecb8e680a13e",
   "metadata": {},
   "outputs": [],
   "source": [
    "def bubblesort(array)\n",
    "    #Pegando o tamanho do array na variárvel 'n'\n",
    "    n = len(array)\n",
    "\n",
    "    #Para cada valor I do array..\n",
    "    for i in range(n):\n",
    "        #Para cada valor J do array..\n",
    "        for j in range(0, n-i-1):\n",
    "            #Se o valor do índice \n",
    "            if array[j] > array[j+1]:\n",
    "                #Troque os valores\n",
    "                array[j], array[j+1] = rray[j+1], array[j]\n",
    "                \n",
    "            \n",
    "        "
   ]
  }
 ],
 "metadata": {
  "kernelspec": {
   "display_name": "Python 3 (ipykernel)",
   "language": "python",
   "name": "python3"
  },
  "language_info": {
   "codemirror_mode": {
    "name": "ipython",
    "version": 3
   },
   "file_extension": ".py",
   "mimetype": "text/x-python",
   "name": "python",
   "nbconvert_exporter": "python",
   "pygments_lexer": "ipython3",
   "version": "3.12.7"
  }
 },
 "nbformat": 4,
 "nbformat_minor": 5
}
