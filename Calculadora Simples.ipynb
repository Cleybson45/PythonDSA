{
 "cells": [
  {
   "cell_type": "code",
   "execution_count": null,
   "id": "6da8b248-6c76-4468-b407-827707f7ed11",
   "metadata": {},
   "outputs": [],
   "source": [
    "### Desafio: Construa uma Calculadora Simples"
   ]
  },
  {
   "cell_type": "code",
   "execution_count": null,
   "id": "d8c5519f-c6dc-4449-a20a-7cc3d48f7971",
   "metadata": {},
   "outputs": [],
   "source": [
    "#### Pseudocódigo\n",
    "INICIO\n",
    "    Declare duas variáveis para representar os números\n",
    "    Declare uma variável para representar o resultado\n",
    "    Solicite ao usuário o valor de cada variável numérica\n",
    "    Faça o calculo atrindo o resultado a variavel resultado\n",
    "    Apresente ao usuário o resultado\n",
    "FIM"
   ]
  },
  {
   "cell_type": "code",
   "execution_count": 1,
   "id": "342b119e-47b5-40e7-99c6-391ddce6016c",
   "metadata": {},
   "outputs": [
    {
     "name": "stdin",
     "output_type": "stream",
     "text": [
      "Digite o primeiro número:  2\n"
     ]
    }
   ],
   "source": [
    "n1 = int(input(\"Digite o primeiro número: \"))"
   ]
  },
  {
   "cell_type": "code",
   "execution_count": 2,
   "id": "fb72bf2f-7677-4684-bc91-da896af7c070",
   "metadata": {},
   "outputs": [
    {
     "name": "stdin",
     "output_type": "stream",
     "text": [
      "Digite o segundo número:  2\n"
     ]
    }
   ],
   "source": [
    "n2 = int(input(\"Digite o segundo número: \"))"
   ]
  },
  {
   "cell_type": "code",
   "execution_count": 5,
   "id": "74ebca7c-102a-474c-9a73-01fa5bede5f4",
   "metadata": {},
   "outputs": [
    {
     "name": "stdout",
     "output_type": "stream",
     "text": [
      "As operações básicas para esses valores são.. \n",
      "2  +  2  =  4\n",
      "2  -  2  =  0\n",
      "2  x  2  =  4\n",
      "2  /  2  =  1.0\n"
     ]
    }
   ],
   "source": [
    "print(\"As operações básicas para esses valores são.. \")\n",
    "print(n1, \" + \", n2, \" = \", n1+n2)\n",
    "print(n1, \" - \", n2, \" = \", n1-n2)\n",
    "print(n1, \" x \", n2, \" = \", n1*n2)\n",
    "print(n1, \" / \", n2, \" = \", n1/n2)"
   ]
  },
  {
   "cell_type": "code",
   "execution_count": null,
   "id": "ee58baa0-7d12-4de7-96e2-2329960469f5",
   "metadata": {},
   "outputs": [],
   "source": []
  }
 ],
 "metadata": {
  "kernelspec": {
   "display_name": "Python 3 (ipykernel)",
   "language": "python",
   "name": "python3"
  },
  "language_info": {
   "codemirror_mode": {
    "name": "ipython",
    "version": 3
   },
   "file_extension": ".py",
   "mimetype": "text/x-python",
   "name": "python",
   "nbconvert_exporter": "python",
   "pygments_lexer": "ipython3",
   "version": "3.12.7"
  }
 },
 "nbformat": 4,
 "nbformat_minor": 5
}
